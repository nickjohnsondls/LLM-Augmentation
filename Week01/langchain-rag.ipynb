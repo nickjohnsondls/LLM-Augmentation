{
 "cells": [
  {
   "cell_type": "markdown",
   "metadata": {},
   "source": [
    "# Retrieval Augmented Generation with LangChain"
   ]
  },
  {
   "cell_type": "markdown",
   "metadata": {},
   "source": [
    "In this notebook, we'll build some simple naive RAG with LangChain. We will leverage OpenAI for embeddings and LLM responses, and will use the [FAISS](https://engineering.fb.com/2017/03/29/data-infrastructure/faiss-a-library-for-efficient-similarity-search/) vector database."
   ]
  },
  {
   "cell_type": "code",
   "execution_count": 1,
   "metadata": {},
   "outputs": [],
   "source": [
    "from operator import itemgetter\n",
    "import faiss\n",
    "from langchain_community.vectorstores import FAISS\n",
    "from langchain_core.output_parsers import StrOutputParser\n",
    "from langchain.prompts import PromptTemplate\n",
    "from langchain_core.runnables import RunnablePassthrough\n",
    "from langchain_community.chat_models import ChatOpenAI\n",
    "from langchain_community.embeddings import OpenAIEmbeddings\n",
    "\n",
    "from dotenv import load_dotenv\n",
    "load_dotenv()\n",
    "import os"
   ]
  },
  {
   "cell_type": "markdown",
   "metadata": {},
   "source": [
    "## Naive RAG"
   ]
  },
  {
   "cell_type": "markdown",
   "metadata": {},
   "source": [
    "The below cells show a very simple version of RAG, without a document. We simply pass in a sentence, and have the LLM generate a response based on that sentence."
   ]
  },
  {
   "cell_type": "code",
   "execution_count": 2,
   "metadata": {},
   "outputs": [
    {
     "name": "stderr",
     "output_type": "stream",
     "text": [
      "/Library/Frameworks/Python.framework/Versions/3.12/lib/python3.12/site-packages/langchain_core/_api/deprecation.py:117: LangChainDeprecationWarning: The class `langchain_community.embeddings.openai.OpenAIEmbeddings` was deprecated in langchain-community 0.0.9 and will be removed in 0.2.0. An updated version of the class exists in the langchain-openai package and should be used instead. To use it run `pip install -U langchain-openai` and import as `from langchain_openai import OpenAIEmbeddings`.\n",
      "  warn_deprecated(\n",
      "/Library/Frameworks/Python.framework/Versions/3.12/lib/python3.12/site-packages/langchain_core/_api/deprecation.py:117: LangChainDeprecationWarning: The class `langchain_community.chat_models.openai.ChatOpenAI` was deprecated in langchain-community 0.0.10 and will be removed in 0.2.0. An updated version of the class exists in the langchain-openai package and should be used instead. To use it run `pip install -U langchain-openai` and import as `from langchain_openai import ChatOpenAI`.\n",
      "  warn_deprecated(\n"
     ]
    }
   ],
   "source": [
    "vectorstore = FAISS.from_texts(\n",
    "    [\"Addy ran to CCRB\"], embedding=OpenAIEmbeddings(api_key = os.getenv(\"OPENAI_API_KEY\"))\n",
    ")\n",
    "\n",
    "\n",
    "retriever = vectorstore.as_retriever()\n",
    "\n",
    "template = \"\"\"Answer the question based only on the following context:\n",
    "{context}\n",
    "\n",
    "Question: {question}\n",
    "\"\"\"\n",
    "prompt = PromptTemplate.from_template(template)\n",
    "\n",
    "model = ChatOpenAI(api_key= os.getenv(\"OPENAI_API_KEY\"))"
   ]
  },
  {
   "cell_type": "code",
   "execution_count": 3,
   "metadata": {},
   "outputs": [],
   "source": [
    "chain = (\n",
    "    {\"context\": retriever, \"question\": RunnablePassthrough()}\n",
    "    | prompt\n",
    "    | model\n",
    "    | StrOutputParser()\n",
    ")\n",
    "\n"
   ]
  },
  {
   "cell_type": "code",
   "execution_count": 4,
   "metadata": {},
   "outputs": [
    {
     "data": {
      "text/plain": [
       "'Addy is a person.'"
      ]
     },
     "execution_count": 4,
     "metadata": {},
     "output_type": "execute_result"
    }
   ],
   "source": [
    "chain.invoke(\"who is addy?\")"
   ]
  },
  {
   "cell_type": "code",
   "execution_count": 5,
   "metadata": {},
   "outputs": [],
   "source": [
    "template = \"\"\"Answer the question based only on the following context:\n",
    "{context}\n",
    "\n",
    "Question: {question}\n",
    "\n",
    "Answer in the following language: {language}\n",
    "\"\"\"\n",
    "prompt = PromptTemplate.from_template(template)\n",
    "\n",
    "chain = (\n",
    "    {\n",
    "        \"context\": itemgetter(\"question\") | retriever,\n",
    "        \"question\": itemgetter(\"question\"),\n",
    "        \"language\": itemgetter(\"language\"),\n",
    "    }\n",
    "    | prompt\n",
    "    | model\n",
    "    | StrOutputParser()\n",
    ")"
   ]
  },
  {
   "cell_type": "code",
   "execution_count": 7,
   "metadata": {},
   "outputs": [
    {
     "data": {
      "text/plain": [
       "'Addy corrió al CCRB.'"
      ]
     },
     "execution_count": 7,
     "metadata": {},
     "output_type": "execute_result"
    }
   ],
   "source": [
    "chain.invoke({\"question\": \"where did addy run to\", \"language\": \"spanish\"})"
   ]
  },
  {
   "cell_type": "markdown",
   "metadata": {},
   "source": [
    "### Naive RAG with Documents"
   ]
  },
  {
   "cell_type": "markdown",
   "metadata": {},
   "source": [
    "Now, we will perform RAG over an Environmental Science text. You can find the PDF in the [Drive](https://drive.google.com/drive/folders/1EBnXiHcnpZNQ3IWwXOFQLbRJCVQG4sXb?usp=drive_link)."
   ]
  },
  {
   "cell_type": "code",
   "execution_count": 8,
   "metadata": {},
   "outputs": [],
   "source": [
    "from langchain_community.document_loaders import PyPDFLoader\n",
    "from langchain.text_splitter import RecursiveCharacterTextSplitter\n",
    "from langchain_core.output_parsers import StrOutputParser"
   ]
  },
  {
   "cell_type": "code",
   "execution_count": 11,
   "metadata": {},
   "outputs": [
    {
     "name": "stdout",
     "output_type": "stream",
     "text": [
      "Biochemical cycles\n",
      "The surface of the Earth can be considered as four distinct regions and because\n",
      "the planet is spherical each of them is also a sphere. The rocks forming thesolid surface comprise the lithosphere, the oceans, lakes, rivers, and icecapsform the hydrosphere, the air constitutes the atmosphere, and the biospherecontains the entire community of living organisms.\n",
      "Materials move cyclically among these spheres. They originate in the rocks\n",
      "(lithosphere) and are released by weathering or by volcanism. They enterwater (hydrosphere) from where those serving as nutrients are taken upby plants and from there enter animals and other organisms (biosphere).From living organisms they may enter the air (atmosphere) or water(hydrosphere). Eventually they enter the oceans (hydrosphere), wherethey are taken up by marine organisms (biosphere). These return them tothe air (atmosphere), from where they are washed to the ground by rain,thus returning to the land.\n",
      "The idea that biogeochemical cycles are components of an overall system raises an obvious question:\n",
      "what drives this system? It used to be thought that the global system is purely mechanical, driven byphysical forces, and, indeed, this is the way it can seem. V olcanoes, from which atmospheric gasesand igneous rocks erupt, are purely physical phenomena. The movement of crustal plates, weatheringof rocks, condensation of water vapour in cooling air to form clouds leading to precipitation—allthese can be explained in purely physical terms and they carry with them the substances needed tosustain life. Organisms simply grab what they need as it passes, modifying their requirements andstrategies for satisfying them as best they can when conditions change.\n"
     ]
    }
   ],
   "source": [
    "loader = PyPDFLoader(\"environmental_sci.pdf\")\n",
    "\n",
    "# The text splitter is used to split the document into chunks\n",
    "# Mess with the parameters to see how it affects the output\n",
    "text_splitter = RecursiveCharacterTextSplitter(\n",
    "    chunk_size=2000,\n",
    "    chunk_overlap=100,\n",
    "    length_function=len,\n",
    "    is_separator_regex=False,\n",
    ")\n",
    "\n",
    "chunks = loader.load_and_split(text_splitter=text_splitter)\n",
    "\n",
    "print(chunks[25].page_content)"
   ]
  },
  {
   "cell_type": "code",
   "execution_count": 12,
   "metadata": {},
   "outputs": [
    {
     "name": "stdout",
     "output_type": "stream",
     "text": [
      "page_content='4 Biosphere 137\\n32. Biosphere, biomes, biogeography 137\\n33. Major biomes 14134. Nutrient cycles 147\\n35. Respiration and photosynthesis 151\\n36. Trophic relationships 15137. Energy, numbers, biomass 160\\n38. Ecosystems 163\\n39. Succession and climax 16840. Arrested successions 172\\n41. Colonization 176\\n42. Stability, instability, and reproductive strategies 17943. Simplicity and diversity 183\\n44. Homoeostasis, feedback, regulation 188\\n45. Limits of tolerance 192\\nFurther reading 197\\nReferences 197\\n5 Biological Resources 200\\n46. Evolution 200\\n47. Evolutionary strategies and game theory 206\\n48. Adaptation 21049. Dispersal mechanisms 214\\n50. Wildlife species and habitats 218\\n51. Biodiversity 22252. Fisheries 227\\n53. Forests 233\\n54. Farming for food and fibre 23955. Human populations and demographic change 249\\n56. Genetic engineering 250\\nFurther reading 257Notes 257\\nReferences 258\\n6 Environmental Management 261\\n57. Wildlife conservation 261\\n58. Zoos, nature reserves, wilderness 265\\n59. Pest control 26960. Restoration ecology 274\\n61. World conservation strategies 237\\n62. Pollution control 28163 Hazardous waste 287\\n64. Transnational pollution 288\\nFurther reading 296References 296\\nEnd of book summary 298\\nGlossary 300\\nBibliography 307\\nIndex 316\\nvi / Contents' metadata={'source': 'environmental_sci.pdf', 'page': 6}\n"
     ]
    }
   ],
   "source": [
    "len(chunks)\n",
    "print(chunks[4])"
   ]
  },
  {
   "cell_type": "code",
   "execution_count": 13,
   "metadata": {},
   "outputs": [],
   "source": [
    "# We will now use the from_documents method to create a vectorstore from the chunks\n",
    "vectorstore = FAISS.from_documents(\n",
    "    chunks, embedding=OpenAIEmbeddings(api_key = \"\")\n",
    ")\n",
    "\n",
    "retriever = vectorstore.as_retriever(k=5)\n",
    "\n",
    "template = \"\"\"Answer the question based only on the following context:\n",
    "{context}\n",
    "\n",
    "Question: {question}\n",
    "\"\"\"\n",
    "prompt = PromptTemplate.from_template(template)"
   ]
  },
  {
   "cell_type": "code",
   "execution_count": 14,
   "metadata": {},
   "outputs": [],
   "source": [
    "chain = (\n",
    "    {\"context\": retriever, \"question\": RunnablePassthrough()}\n",
    "    | prompt\n",
    "    | model\n",
    "    | StrOutputParser()\n",
    ")"
   ]
  },
  {
   "cell_type": "code",
   "execution_count": 15,
   "metadata": {},
   "outputs": [
    {
     "name": "stdout",
     "output_type": "stream",
     "text": [
      "the Industrial Revolution was about 280 µmol mol-1 and that the increase since then has been dueentirely to emissions from the burning of fossil fuels. This may not be the case. The solubility ofgases, including carbon dioxide, is inversely proportional to the temperature. A rise in temperature,therefore, will cause dissolved carbon dioxide to bubble out of the oceans. This is called the ‘warmchampagne’ effect. Rising temperature will also stimulate aerobic bacteria. Their respiration willrelease carbon dioxide. This is called the ‘warm beer’ effect (CALDER, 1999).\n",
      "Carbon dioxide is the best-known greenhouse gas, because it is the most abundant of those over\n",
      "which we can exert some control, but it is not the only one. Methane, produced naturally, for exampleby termites, but also by farmed livestock and from wet-rice farming (present concentration about 1.7ppm), nitrous oxide (0.31 ppm) and tropospheric ozone (0.06 ppm), products from the burning offuels in furnaces and car engines, and the industrially manufactured compounds CFC-11 (0.00026ppm) and CFC-12 (0.00044 ppm) are also important. The most important of all, however, is watervapour. This enters into the calculations only indirectly, because its concentration varies greatlyfrom place to place and from day to day and because it is strongly affected by temperature. Itsinfluence, therefore, tends to add to those of the other gases and generally varies as they do. Figure2.13 shows the anticipated changes in concentration for carbon dioxide, methane, and CFC-12,which is one of the family of CFC compounds. These increases are based on the (uncertain) assumptionthat industrial and vehicle emissions are the only source of carbon dioxide.\n",
      "All greenhouse-gas effects are usually expressed as ‘global warming potentials’ (GWPs) which\n",
      "\n",
      "Earth Sciences / 79activity and climate so close he described it ‘almost that of a key in a lock’, extending to 3000 BC\n",
      "(EDDY , 1977).\n",
      "Again, the solar influence may be overwhelmed by that from greenhouse gases. David Thomson, a\n",
      "skilled statistician, has analysed data since 1659 and concluded that global temperatures are nowlinked more closely to atmospheric carbon dioxide concentrations than to sunspot activity or orbitaleffects (THOMSON, 1985), although his interpretation has been questioned by some climatologists,who think it too simple (KERR, 1995). The idea is now gaining ground that present changes in theatmosphere and climate are more likely to be due to changes in solar output and volcanic eruptionsthan to human intervention (CALDER, 1999).\n",
      "Debate will continue for some time over what is forcing present climate change, but at least in the\n",
      "past it has clearly been triggered by astronomical events, and when the climate changes it can doso very quickly. At one time it was thought that ice ages begin and end gradually, it taking centuriesor longer for the ice sheets to spread. This may be incorrect. According to the ‘snowblitz’ theory,a slight fall in summer temperatures in high latitudes might allow some of the winter snow tosurvive where in previous years it had melted. The affected areas would then be white, whenpreviously they had been dark, thus increasing albedo and lowering temperature further. Insucceeding years, the snow-covered area would increase and temperatures would continue to fall,climatic forcing by the increased albedo accelerating the change by a strongly positive feedback.It might take very little time to move from our present interglacial climates to a full glaciation.Warming can also proceed rapidly, the change from glacial to interglacial perhaps taking no morethan a few decades.\n",
      "Stability of the polar ice sheets\n",
      "If the polar ice caps were to melt, the volume of water released into the oceans\n",
      "\n",
      "of the International Council for Scientific Unions (ICSU, now called the International Council forScience). There, research scientists, including ecologists and experts on climate and energy-demandmodelling, concluded that global warming was a real threat and more research was needed and,supported by environmentalist groups, the topic quickly acquired political influence. This politicizationand resultant popular dramatization of a very complex and uncertain issue has attracted criticism(BOEHMER-CHRISTIANSEN, 1994; BOLIN, 1995).\n",
      "Studies of climate forcing begin with estimates of ways in which the chemical composition of the\n",
      "atmosphere may change in the future, to produce an ‘emissions scenario’. This requires a knowledgeof the sources from which greenhouse gases are released, the sinks into which they are absorbed, andways the sinks may respond to increased loading. The oceans are the most important sink for carbondioxide, but the behaviour of the sinks is incompletely understood and no sink has been identified fora significant fraction of the carbon dioxide known to have been emitted. Measurements of greenhouse-gas concentrations must also distinguish between genuine changes, the ‘signal’, and natural variations,the ‘noise’. Carbon dioxide levels vary seasonally, for example, in response to the growing seasonfor plants.\n",
      "General circulation models (GCMs) are then constructed. These are based on a notional three-\n",
      "\n",
      "46 / Basics of Environmental Scienceatmospheric greenhouse effect is real and important, and the gases which cause it are justly known\n",
      "as ‘greenhouse gases’.\n",
      "Both the global climate and atmospheric concentrations of greenhouse gases vary from time to time.\n",
      "Studies of air trapped in bubbles inside ice cores from Greenland and from the Russian V ostokstation in Antarctica have revealed a clear and direct relationship between these variations and airtemperature, in the case of the Vostok cores back to about 160 000 years ago. The correlation isconvincing, although it is possible that the fluctuating greenhouse-gas concentration is an effect oftemperature change rather than the cause of it. As temperatures rose at the end of the last ice age, theincrease in the atmospheric concentration of carbon dioxide lagged behind the temperature (CALDER,1999) and so carbon dioxide cannot have been the cause of the warming. There is also evidence thatthe carbon dioxide concentration was far from constant prior to the start of the Industrial Revolution(WAGNER ET AL. , 1999). Carbon dioxide measurements taken from air bubbles trapped in ice\n",
      "cores are unreliable, because carbon dioxide is soluble in solid ice.\n",
      "Nor has the temperature always been linked to the concentration of carbon dioxide. The two were\n",
      "uncoupled between about 17 and 43 million years ago. The air then contained less than two-thirds ofthe present concentration of carbon dioxide (180–240 µmol mol\n",
      "-1 compared with 360 µmol mol-1\n",
      "today), but the climate was up to 6°C warmer than it is today (COWLING, 1999).\n",
      "Nevertheless, it is estimated that the atmospheric carbon dioxide concentration immediately prior to\n",
      "\n",
      "All greenhouse-gas effects are usually expressed as ‘global warming potentials’ (GWPs) which\n",
      "relate them to carbon dioxide. GWPs take account of the wavelengths at which particular moleculesabsorb, some of which overlap, and the length of time they remain in the atmosphere beforedecomposing or being deposited at the surface. On this basis, over a 100-year period, with carbondioxide given a value of 1, methane has a value of 11 (i.e. it is 11 times more effective thancarbon dioxide, molecule for molecule), nitrous oxide 270, CFC-11 3400, and CFC-12 7100.The estimates of future climatic warming are based on the consequences calculated for a doublingof the carbon dioxide concentration, which includes the GWPs for all the relevant gases. Figure2.14 shows that, depending on the sensitivity of the atmosphere to greenhouse forcing, a doublingof carbon dioxide would raise the average global temperature by 1.5–4.5°C, with a ‘best estimate’\n"
     ]
    }
   ],
   "source": [
    "# An overly complicated one-liner to test what the top 5 most similar chunks are to the question\n",
    "# Use this to make sense of the output of the next cell\n",
    "print(\"\\n\\n\".join([x.page_content for x in vectorstore.similarity_search(\"What is the main cause of global warming?\", k=5)]))"
   ]
  },
  {
   "cell_type": "code",
   "execution_count": 16,
   "metadata": {},
   "outputs": [
    {
     "data": {
      "text/plain": [
       "'The main cause of global warming is the increase in greenhouse gases, particularly carbon dioxide, methane, and CFC compounds, due to human activities such as the burning of fossil fuels and industrial processes.'"
      ]
     },
     "execution_count": 16,
     "metadata": {},
     "output_type": "execute_result"
    }
   ],
   "source": [
    "chain.invoke(\"What is the main cause of global warming?\")"
   ]
  },
  {
   "cell_type": "markdown",
   "metadata": {},
   "source": [
    "Try RAG yourself! Take a file of your choice and apply the same concepts. "
   ]
  },
  {
   "cell_type": "code",
   "execution_count": null,
   "metadata": {},
   "outputs": [],
   "source": []
  },
  {
   "cell_type": "markdown",
   "metadata": {},
   "source": [
    "Mess with the splitting method ([LangChain splitters](https://python.langchain.com/docs/modules/data_connection/document_transformers/)), the parameters to the splitter, and the number of retrieved chunks that are injected into the LLM's prompt as context. These will significantly impact how the LLM performs and answers questions."
   ]
  },
  {
   "cell_type": "markdown",
   "metadata": {},
   "source": [
    "## Advanced RAG"
   ]
  },
  {
   "cell_type": "markdown",
   "metadata": {},
   "source": [
    "We leave this as a (optional) challenge for you. How can we implement advanced RAG methods in LangChain?\n",
    "\n",
    "1. Find some data that you would like to perform RAG over. \n",
    "2. Implement some form of advanced search with LangChain. \n",
    "\n",
    "Note: The LangChain [EnsembleRetriever](https://python.langchain.com/docs/modules/data_connection/retrievers/ensemble) may be of use."
   ]
  },
  {
   "cell_type": "code",
   "execution_count": null,
   "metadata": {},
   "outputs": [],
   "source": [
    "pass"
   ]
  }
 ],
 "metadata": {
  "kernelspec": {
   "display_name": "Python 3",
   "language": "python",
   "name": "python3"
  },
  "language_info": {
   "codemirror_mode": {
    "name": "ipython",
    "version": 3
   },
   "file_extension": ".py",
   "mimetype": "text/x-python",
   "name": "python",
   "nbconvert_exporter": "python",
   "pygments_lexer": "ipython3",
   "version": "3.12.0"
  }
 },
 "nbformat": 4,
 "nbformat_minor": 2
}
